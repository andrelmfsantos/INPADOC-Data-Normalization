{
  "nbformat": 4,
  "nbformat_minor": 0,
  "metadata": {
    "colab": {
      "provenance": [],
      "toc_visible": true
    },
    "kernelspec": {
      "name": "python3",
      "display_name": "Python 3"
    },
    "language_info": {
      "name": "python"
    }
  },
  "cells": [
    {
      "cell_type": "markdown",
      "source": [
        "<pre>\n",
        "<img align=\"center\" width=\"900\" src=\"https://raw.githubusercontent.com/andrelmfsantos/INPADOC-Data-Normalization/main/Images/FAPESP_Header_Google_Colab_english.png\">\n",
        "</pre>\n",
        "\n",
        "> * __INPADOC: International Patent Documentation__\n",
        "* [FAPESP Process Number: 23/12389-1](https://bv.fapesp.br/pt/auxilios/113767/solucoes-diagnosticas-e-terapeuticas-da-covid-19-protegidas-por-patentes-sistematizacao-das-principa/)"
      ],
      "metadata": {
        "id": "2dKWHJwS7QwM"
      }
    },
    {
      "cell_type": "markdown",
      "source": [
        "|   |   |\n",
        "|--:|:--|\n",
        "|**Authors:**|[Priscila Rezende da Costa](https://bv.fapesp.br/pt/pesquisador/67192/priscila-rezende-da-costa/) $-$ [Camila Naves Arantes](http://lattes.cnpq.br/3897204543440920) $-$ [Alex Fabianne de Paulo](http://lattes.cnpq.br/9690861410844635) $-$ </br> [Geciane Silveira Porto](https://bv.fapesp.br/pt/pesquisador/89388/geciane-silveira-porto/) $-$ [André Luis Marques Ferreira dos Santos](http://lattes.cnpq.br/9690861410844635) $-$ [Celise Marson](http://lattes.cnpq.br/2618279063609476)|\n",
        "|**Host Institution:**|[Universidade Nove de Julho (UNINOVE). Campus Vergueiro. São Paulo , SP, Brasil](https://bv.fapesp.br/pt/instituicao/1496/campus-vergueiro/)|\n",
        "|**Date:**|July 13, 2024|"
      ],
      "metadata": {
        "id": "ISZMK8AKN-SR"
      }
    },
    {
      "cell_type": "markdown",
      "source": [
        "**18,298 results from Derwent Innovations Index for:**\n",
        "\n",
        "* Topic:\n",
        "\n",
        "    * (\"COVID*\" OR \"coronavirus disease 2019\" OR \"coronavirus pneumonia\" OR \"novel coronavirus disease\" OR \"COVID\" OR \"COVID disease\" OR \"COVID virus\" OR \"coronavirus pandemic\" OR \"SARS-CoV-2\" OR \"coronavirus 2\" OR \"novel coronavirus\" OR \"COVID virus\" OR \"sarsa\" OR \"Wuhan coronavirus\")\n",
        "* [Derwent $-$ Web of Science](https://www.webofscience.com/wos/diidw/summary/01631a4b-22fd-40a9-886c-e1087358711f-fb23bb19/diidw-relevance/1)\n",
        "* Export: \"Tab delimited file\"\n",
        "* Record Content: Full Record"
      ],
      "metadata": {
        "id": "R74XiHE7SAgN"
      }
    },
    {
      "cell_type": "markdown",
      "source": [
        "**About this Notebook:**\n",
        "\n",
        "1. Downloads text files from [GitHub](https://github.com/andrelmfsantos/INPADOC-Data-Normalization/tree/main/Exports_Web_of_Science).\n",
        "2. Converts each file into a DataFrame.\n",
        "3. Saves each DataFrame as a CSV file in the `TXT_Web_of_Science_to_CSV` folder.\n",
        "4. Zips the folder containing the CSV files into a ZIP file.\n",
        "5. Provides a download link for the ZIP file."
      ],
      "metadata": {
        "id": "4DJydNDUUXQu"
      }
    },
    {
      "cell_type": "code",
      "source": [
        "import pandas as pd\n",
        "import os\n",
        "import requests\n",
        "\n",
        "# Ensure the output directory exists\n",
        "output_folder_path = 'TXT_Web_of_Science_to_CSV'\n",
        "os.makedirs(output_folder_path, exist_ok=True)\n",
        "\n",
        "# Base URL for the files on GitHub\n",
        "base_url = 'https://raw.githubusercontent.com/andrelmfsantos/INPADOC-Data-Normalization/main/Exports_Web_of_Science/savedrecs_'\n",
        "\n",
        "# Define column names\n",
        "columns = ['PN', 'TI', 'AU', 'AE', 'GA', 'AB', 'TF', 'EA', 'DC', 'MC', 'IP', 'PD', 'AD', 'FD', 'PI', 'DS', 'FS', 'CP', 'CR', 'DN', 'MN', 'RI', 'CI', 'RG']\n",
        "\n",
        "# Function to read a file from a URL and return a DataFrame\n",
        "def read_file_to_dataframe(file_url):\n",
        "    response = requests.get(file_url)\n",
        "    response.raise_for_status()  # Ensure we notice bad responses\n",
        "    lines = response.text.splitlines()\n",
        "    if lines:\n",
        "        lines[0] = lines[0].replace('\\ufeff', '')  # Strip BOM character if present\n",
        "\n",
        "        # Split lines by tab and create a list of dictionaries\n",
        "        data = []\n",
        "        for line in lines[1:]:  # Skip header line\n",
        "            split_line = line.split('\\t')\n",
        "            entry = {col: split_line[i] if i < len(split_line) else None for i, col in enumerate(columns)}\n",
        "            data.append(entry)\n",
        "\n",
        "        # Create DataFrame\n",
        "        df = pd.DataFrame(data, columns=columns)\n",
        "        return df\n",
        "    else:\n",
        "        return pd.DataFrame(columns=columns)\n",
        "\n",
        "# Read all files from 0 to 18 and save them as CSV\n",
        "for i in range(19):\n",
        "    file_url = f'{base_url}{i}.txt'\n",
        "    try:\n",
        "        df = read_file_to_dataframe(file_url)\n",
        "        print(f'savedrecs_{i}.txt: {len(df)} rows')\n",
        "\n",
        "        # Save DataFrame to CSV\n",
        "        output_file_path = os.path.join(output_folder_path, f'savedrecs_{i}.csv')\n",
        "        df.to_csv(output_file_path, index=False)\n",
        "        print(f'Saved {output_file_path}')\n",
        "    except requests.exceptions.RequestException as e:\n",
        "        print(f'Failed to download {file_url}: {e}')\n",
        "\n",
        "# Optionally, you can do further processing with the list of DataFrames\n",
        "# For example, display the first few rows of each DataFrame\n",
        "for i in range(19):\n",
        "    output_file_path = os.path.join(output_folder_path, f'savedrecs_{i}.csv')\n",
        "    if os.path.exists(output_file_path):\n",
        "        df = pd.read_csv(output_file_path)\n",
        "        print(f'DataFrame from savedrecs_{i}.csv head:')\n",
        "        #print(df.head())\n",
        "\n",
        "# Zip the folder containing CSV files\n",
        "!zip -r TXT_Web_of_Science_to_CSV.zip TXT_Web_of_Science_to_CSV\n",
        "\n",
        "# Provide a link to download the zipped folder\n",
        "from google.colab import files\n",
        "files.download('TXT_Web_of_Science_to_CSV.zip')"
      ],
      "metadata": {
        "colab": {
          "base_uri": "https://localhost:8080/",
          "height": 1000
        },
        "id": "X-CjOzyfTvAP",
        "outputId": "5a460f87-b11d-40a9-f596-e0d5518d3985"
      },
      "execution_count": null,
      "outputs": [
        {
          "output_type": "stream",
          "name": "stdout",
          "text": [
            "savedrecs_0.txt: 1000 rows\n",
            "Saved TXT_Web_of_Science_to_CSV/savedrecs_0.csv\n",
            "savedrecs_1.txt: 1000 rows\n",
            "Saved TXT_Web_of_Science_to_CSV/savedrecs_1.csv\n",
            "savedrecs_2.txt: 1000 rows\n",
            "Saved TXT_Web_of_Science_to_CSV/savedrecs_2.csv\n",
            "savedrecs_3.txt: 1000 rows\n",
            "Saved TXT_Web_of_Science_to_CSV/savedrecs_3.csv\n",
            "savedrecs_4.txt: 1000 rows\n",
            "Saved TXT_Web_of_Science_to_CSV/savedrecs_4.csv\n",
            "savedrecs_5.txt: 1000 rows\n",
            "Saved TXT_Web_of_Science_to_CSV/savedrecs_5.csv\n",
            "savedrecs_6.txt: 1000 rows\n",
            "Saved TXT_Web_of_Science_to_CSV/savedrecs_6.csv\n",
            "savedrecs_7.txt: 1000 rows\n",
            "Saved TXT_Web_of_Science_to_CSV/savedrecs_7.csv\n",
            "savedrecs_8.txt: 1000 rows\n",
            "Saved TXT_Web_of_Science_to_CSV/savedrecs_8.csv\n",
            "savedrecs_9.txt: 1000 rows\n",
            "Saved TXT_Web_of_Science_to_CSV/savedrecs_9.csv\n",
            "savedrecs_10.txt: 1000 rows\n",
            "Saved TXT_Web_of_Science_to_CSV/savedrecs_10.csv\n",
            "savedrecs_11.txt: 1000 rows\n",
            "Saved TXT_Web_of_Science_to_CSV/savedrecs_11.csv\n",
            "savedrecs_12.txt: 1000 rows\n",
            "Saved TXT_Web_of_Science_to_CSV/savedrecs_12.csv\n",
            "savedrecs_13.txt: 1000 rows\n",
            "Saved TXT_Web_of_Science_to_CSV/savedrecs_13.csv\n",
            "savedrecs_14.txt: 1000 rows\n",
            "Saved TXT_Web_of_Science_to_CSV/savedrecs_14.csv\n",
            "savedrecs_15.txt: 1000 rows\n",
            "Saved TXT_Web_of_Science_to_CSV/savedrecs_15.csv\n",
            "savedrecs_16.txt: 1000 rows\n",
            "Saved TXT_Web_of_Science_to_CSV/savedrecs_16.csv\n",
            "savedrecs_17.txt: 1000 rows\n",
            "Saved TXT_Web_of_Science_to_CSV/savedrecs_17.csv\n",
            "savedrecs_18.txt: 298 rows\n",
            "Saved TXT_Web_of_Science_to_CSV/savedrecs_18.csv\n",
            "DataFrame from savedrecs_0.csv head:\n",
            "DataFrame from savedrecs_1.csv head:\n",
            "DataFrame from savedrecs_2.csv head:\n",
            "DataFrame from savedrecs_3.csv head:\n",
            "DataFrame from savedrecs_4.csv head:\n",
            "DataFrame from savedrecs_5.csv head:\n",
            "DataFrame from savedrecs_6.csv head:\n",
            "DataFrame from savedrecs_7.csv head:\n",
            "DataFrame from savedrecs_8.csv head:\n",
            "DataFrame from savedrecs_9.csv head:\n",
            "DataFrame from savedrecs_10.csv head:\n",
            "DataFrame from savedrecs_11.csv head:\n",
            "DataFrame from savedrecs_12.csv head:\n",
            "DataFrame from savedrecs_13.csv head:\n",
            "DataFrame from savedrecs_14.csv head:\n",
            "DataFrame from savedrecs_15.csv head:\n",
            "DataFrame from savedrecs_16.csv head:\n",
            "DataFrame from savedrecs_17.csv head:\n",
            "DataFrame from savedrecs_18.csv head:\n",
            "updating: TXT_Web_of_Science_to_CSV/ (stored 0%)\n",
            "updating: TXT_Web_of_Science_to_CSV/savedrecs_0.csv (deflated 75%)\n",
            "updating: TXT_Web_of_Science_to_CSV/savedrecs_17.csv (deflated 74%)\n",
            "updating: TXT_Web_of_Science_to_CSV/savedrecs_3.csv (deflated 75%)\n",
            "updating: TXT_Web_of_Science_to_CSV/savedrecs_15.csv (deflated 73%)\n",
            "updating: TXT_Web_of_Science_to_CSV/savedrecs_18.csv (deflated 76%)\n",
            "updating: TXT_Web_of_Science_to_CSV/savedrecs_13.csv (deflated 72%)\n",
            "updating: TXT_Web_of_Science_to_CSV/savedrecs_1.csv (deflated 75%)\n",
            "updating: TXT_Web_of_Science_to_CSV/savedrecs_8.csv (deflated 74%)\n",
            "updating: TXT_Web_of_Science_to_CSV/savedrecs_12.csv (deflated 73%)\n",
            "updating: TXT_Web_of_Science_to_CSV/savedrecs_2.csv (deflated 75%)\n",
            "updating: TXT_Web_of_Science_to_CSV/savedrecs_4.csv (deflated 74%)\n",
            "updating: TXT_Web_of_Science_to_CSV/savedrecs_7.csv (deflated 74%)\n",
            "updating: TXT_Web_of_Science_to_CSV/savedrecs_10.csv (deflated 74%)\n",
            "updating: TXT_Web_of_Science_to_CSV/savedrecs_5.csv (deflated 74%)\n",
            "updating: TXT_Web_of_Science_to_CSV/savedrecs_16.csv (deflated 72%)\n",
            "updating: TXT_Web_of_Science_to_CSV/savedrecs_6.csv (deflated 74%)\n",
            "updating: TXT_Web_of_Science_to_CSV/savedrecs_14.csv (deflated 73%)\n",
            "updating: TXT_Web_of_Science_to_CSV/savedrecs_11.csv (deflated 73%)\n",
            "updating: TXT_Web_of_Science_to_CSV/savedrecs_9.csv (deflated 74%)\n"
          ]
        },
        {
          "output_type": "display_data",
          "data": {
            "text/plain": [
              "<IPython.core.display.Javascript object>"
            ],
            "application/javascript": [
              "\n",
              "    async function download(id, filename, size) {\n",
              "      if (!google.colab.kernel.accessAllowed) {\n",
              "        return;\n",
              "      }\n",
              "      const div = document.createElement('div');\n",
              "      const label = document.createElement('label');\n",
              "      label.textContent = `Downloading \"${filename}\": `;\n",
              "      div.appendChild(label);\n",
              "      const progress = document.createElement('progress');\n",
              "      progress.max = size;\n",
              "      div.appendChild(progress);\n",
              "      document.body.appendChild(div);\n",
              "\n",
              "      const buffers = [];\n",
              "      let downloaded = 0;\n",
              "\n",
              "      const channel = await google.colab.kernel.comms.open(id);\n",
              "      // Send a message to notify the kernel that we're ready.\n",
              "      channel.send({})\n",
              "\n",
              "      for await (const message of channel.messages) {\n",
              "        // Send a message to notify the kernel that we're ready.\n",
              "        channel.send({})\n",
              "        if (message.buffers) {\n",
              "          for (const buffer of message.buffers) {\n",
              "            buffers.push(buffer);\n",
              "            downloaded += buffer.byteLength;\n",
              "            progress.value = downloaded;\n",
              "          }\n",
              "        }\n",
              "      }\n",
              "      const blob = new Blob(buffers, {type: 'application/binary'});\n",
              "      const a = document.createElement('a');\n",
              "      a.href = window.URL.createObjectURL(blob);\n",
              "      a.download = filename;\n",
              "      div.appendChild(a);\n",
              "      a.click();\n",
              "      div.remove();\n",
              "    }\n",
              "  "
            ]
          },
          "metadata": {}
        },
        {
          "output_type": "display_data",
          "data": {
            "text/plain": [
              "<IPython.core.display.Javascript object>"
            ],
            "application/javascript": [
              "download(\"download_90bfae4f-f5c4-4e27-887d-d0085a435075\", \"TXT_Web_of_Science_to_CSV.zip\", 32135366)"
            ]
          },
          "metadata": {}
        }
      ]
    }
  ]
}